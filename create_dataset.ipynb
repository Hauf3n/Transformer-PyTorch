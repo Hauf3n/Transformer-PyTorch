{
 "cells": [
  {
   "cell_type": "markdown",
   "metadata": {},
   "source": [
    "# Imports and load models"
   ]
  },
  {
   "cell_type": "code",
   "execution_count": 1,
   "metadata": {},
   "outputs": [
    {
     "name": "stderr",
     "output_type": "stream",
     "text": [
      "I1212 16:14:21.910832  2576 utils.py:431] loading Word2VecKeyedVectors object from C:\\Users\\Marc\\.flair\\embeddings\\en-fasttext-news-300d-1M\n",
      "I1212 16:14:23.733858  2576 utils.py:470] loading vectors from C:\\Users\\Marc\\.flair\\embeddings\\en-fasttext-news-300d-1M.vectors.npy with mmap=None\n",
      "I1212 16:14:27.664084  2576 utils.py:503] setting ignored attribute vectors_norm to None\n",
      "I1212 16:14:27.665082  2576 utils.py:437] loaded C:\\Users\\Marc\\.flair\\embeddings\\en-fasttext-news-300d-1M\n",
      "I1212 16:14:27.669072  2576 utils.py:431] loading Word2VecKeyedVectors object from C:\\Users\\Marc\\.flair\\embeddings\\de-wiki-fasttext-300d-1M\n",
      "I1212 16:14:29.244755  2576 utils.py:470] loading vectors from C:\\Users\\Marc\\.flair\\embeddings\\de-wiki-fasttext-300d-1M.vectors.npy with mmap=None\n",
      "I1212 16:14:33.606050  2576 utils.py:503] setting ignored attribute vectors_norm to None\n",
      "I1212 16:14:33.608046  2576 utils.py:437] loaded C:\\Users\\Marc\\.flair\\embeddings\\de-wiki-fasttext-300d-1M\n"
     ]
    }
   ],
   "source": [
    "import numpy as np\n",
    "import pandas as pd\n",
    "import torch\n",
    "import joblib\n",
    "import matplotlib.pyplot as plt\n",
    "from flair.data import Sentence\n",
    "from flair.embeddings import WordEmbeddings\n",
    "%matplotlib inline\n",
    "\n",
    "# gpu\n",
    "device = torch.device(\"cuda:0\")\n",
    "dtype = torch.float\n",
    "\n",
    "embedding_model_en = WordEmbeddings('en')\n",
    "embedding_model_de = WordEmbeddings('de')\n",
    "d_model = 300 # embedding size of fasttext models"
   ]
  },
  {
   "cell_type": "markdown",
   "metadata": {},
   "source": [
    "# Create positional encodings"
   ]
  },
  {
   "cell_type": "code",
   "execution_count": 2,
   "metadata": {},
   "outputs": [],
   "source": [
    "sine_mask = [2*i for i in range(d_model//2)]\n",
    "cosine_mask = [2*i+1 for i in range(d_model//2)]\n",
    "i = torch.tensor([i for i in range(d_model//2)]).to(device).to(dtype)\n",
    "\n",
    "# pre compute positional encodings for 75 tokens\n",
    "positional_encodings = []\n",
    "for position in range(75):\n",
    "    \n",
    "    sine = torch.sin( position / ( 10000 ** (2*i/d_model) ) )\n",
    "    cosine = torch.cos( position / ( 10000 ** (2*i/d_model) ) )\n",
    "    \n",
    "    position_enc = torch.zeros(d_model).to(device)\n",
    "    position_enc[sine_mask] = sine\n",
    "    position_enc[cosine_mask] = cosine\n",
    "\n",
    "    positional_encodings.append(position_enc)\n",
    "\n",
    "# return pre computed pos encoding\n",
    "def positional_encoding(sentence):\n",
    "    num_tokens = len(sentence)\n",
    "    return positional_encodings[0:num_tokens]"
   ]
  },
  {
   "cell_type": "markdown",
   "metadata": {},
   "source": [
    "# Test positional encoding"
   ]
  },
  {
   "cell_type": "code",
   "execution_count": 3,
   "metadata": {},
   "outputs": [
    {
     "data": {
      "image/png": "[encoded data removed]",
      "text/plain": [
       "<Figure size 864x576 with 2 Axes>"
      ]
     },
     "metadata": {},
     "output_type": "display_data"
    }
   ],
   "source": [
    "s = Sentence('This is a test a b c r g.',language_code='en')\n",
    "enc_list = positional_encoding(s)\n",
    "enc = np.array([token_enc.cpu().numpy() for token_enc in enc_list])\n",
    "\n",
    "plt.figure(figsize=(12,8))\n",
    "plt.pcolormesh(enc, cmap='viridis')\n",
    "plt.xlabel('Embedding Dimensions')\n",
    "plt.ylabel('Token Position')\n",
    "plt.colorbar()\n",
    "plt.show()"
   ]
  },
  {
   "cell_type": "markdown",
   "metadata": {},
   "source": [
    "# load data and make embeddings + pos encoding "
   ]
  },
  {
   "cell_type": "code",
   "execution_count": 4,
   "metadata": {},
   "outputs": [],
   "source": [
    "# data\n",
    "df = pd.read_csv('data\\deu-eng\\pairs.txt', delimiter='\\t',\n",
    "                    usecols=[0,1],encoding='utf-8',names=['en','de'])"
   ]
  },
  {
   "cell_type": "code",
   "execution_count": 5,
   "metadata": {},
   "outputs": [
    {
     "name": "stdout",
     "output_type": "stream",
     "text": [
      "0 / 3506\n",
      "100 / 3506\n"
     ]
    }
   ],
   "source": [
    "batch_size = 64\n",
    "dataset_embedding = []\n",
    "for line in range(len(df)//batch_size//30):\n",
    "    \n",
    "    sentences_en = [ Sentence(sentence,language_code='en') for sentence in df['en'][line*batch_size:line*batch_size+batch_size]]\n",
    "    sentences_de = [ Sentence(sentence,language_code='de') for sentence in df['de'][line*batch_size:line*batch_size+batch_size]]\n",
    "\n",
    "    embedding_model_en.embed(sentences_en)\n",
    "    embedding_model_de.embed(sentences_de)\n",
    "    \n",
    "    for sentence_en, sentence_de in zip(sentences_en,sentences_de):\n",
    "        \n",
    "        pos_enc_en = positional_encoding(sentence_en)\n",
    "        pos_enc_de = positional_encoding(sentence_de)\n",
    "        \n",
    "        en_embedding = torch.stack([token.embedding + pos_enc_en[i] for i,token in enumerate(sentence_en)])\n",
    "        de_embedding = torch.stack([token.embedding + pos_enc_de[i] for i,token in enumerate(sentence_de)])\n",
    "        \n",
    "        en_tokens = [token.text for token in sentence_en]\n",
    "        de_tokens = [token.text for token in sentence_de]\n",
    "        \n",
    "        dataset_embedding.append([en_embedding, de_embedding, en_tokens, de_tokens])\n",
    "    \n",
    "    if line%100 == 0:\n",
    "        print(f'{line} / {len(df)//batch_size}')"
   ]
  },
  {
   "cell_type": "code",
   "execution_count": 6,
   "metadata": {},
   "outputs": [
    {
     "data": {
      "text/plain": [
       "['D:\\\\Transformer\\\\dataset.data']"
      ]
     },
     "execution_count": 6,
     "metadata": {},
     "output_type": "execute_result"
    }
   ],
   "source": [
    "filename = 'D:\\Transformer\\dataset.data'\n",
    "joblib.dump(dataset_embedding, filename)  "
   ]
  },
  {
   "cell_type": "markdown",
   "metadata": {},
   "source": [
    "# make vocabulary lists for en and de"
   ]
  },
  {
   "cell_type": "code",
   "execution_count": 7,
   "metadata": {},
   "outputs": [
    {
     "ename": "SyntaxError",
     "evalue": "invalid syntax (<ipython-input-7-8f15542ff676>, line 12)",
     "output_type": "error",
     "traceback": [
      "\u001b[1;36m  File \u001b[1;32m\"<ipython-input-7-8f15542ff676>\"\u001b[1;36m, line \u001b[1;32m12\u001b[0m\n\u001b[1;33m    for i, token in enumerate(list(en_set))\u001b[0m\n\u001b[1;37m                                           ^\u001b[0m\n\u001b[1;31mSyntaxError\u001b[0m\u001b[1;31m:\u001b[0m invalid syntax\n"
     ]
    }
   ],
   "source": [
    "en_set = set()\n",
    "for sentence in df['en']:\n",
    "    for token in Sentence(sentence):\n",
    "        en_set.add(token.text)\n",
    "        \n",
    "de_set = set()\n",
    "for sentence in df['de']:\n",
    "    for token in Sentence(sentence):\n",
    "        de_set.add(token.text)\n",
    "        \n",
    "en_dict = {}\n",
    "for i, token in enumerate(list(en_set))\n",
    "    en_dict[i] = token\n",
    "    en_dict[token] = i\n",
    "    \n",
    "de_dict = {}\n",
    "for i, token in enumerate(list(de_set))\n",
    "    de_dict[i] = token\n",
    "    de_dict[token] = i"
   ]
  },
  {
   "cell_type": "code",
   "execution_count": null,
   "metadata": {},
   "outputs": [],
   "source": [
    "print(\"Vocabulary en: \",len(en_set))\n",
    "print(\"Vocabulary de: \",len(de_set))\n",
    "filename = 'D:\\Transformer\\\\vocab_en.data'\n",
    "joblib.dump(en_dict, filename)\n",
    "filename = 'D:\\Transformer\\\\vocab_de.data'\n",
    "joblib.dump(de_dict, filename)"
   ]
  },
  {
   "cell_type": "code",
   "execution_count": null,
   "metadata": {},
   "outputs": [],
   "source": []
  }
 ],
 "metadata": {
  "kernelspec": {
   "display_name": "Python 3",
   "language": "python",
   "name": "python3"
  },
  "language_info": {
   "codemirror_mode": {
    "name": "ipython",
    "version": 3
   },
   "file_extension": ".py",
   "mimetype": "text/x-python",
   "name": "python",
   "nbconvert_exporter": "python",
   "pygments_lexer": "ipython3",
   "version": "3.6.5"
  }
 },
 "nbformat": 4,
 "nbformat_minor": 2
}
